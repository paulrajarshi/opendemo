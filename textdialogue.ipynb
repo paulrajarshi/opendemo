{
  "nbformat": 4,
  "nbformat_minor": 0,
  "metadata": {
    "colab": {
      "name": "textdialogue.ipynb",
      "provenance": [],
      "collapsed_sections": []
    },
    "kernelspec": {
      "name": "python3",
      "display_name": "Python 3"
    },
    "language_info": {
      "name": "python"
    }
  },
  "cells": [
    {
      "cell_type": "code",
      "source": [
        "from google.colab import drive\n",
        "import json\n",
        "import language_tool_python\n",
        "from statsmodels.tsa.stattools import adfuller\n",
        "import os"
      ],
      "metadata": {
        "id": "e_sBxG8nWYAS"
      },
      "execution_count": 25,
      "outputs": []
    },
    {
      "cell_type": "code",
      "source": [
        "#Mount google drive\n",
        "drive.mount('/content/drive')\n",
        "\n",
        "# Opening JSON file\n",
        "f = open('/content/drive/My Drive/test.json')\n",
        "\n",
        "# returns JSON object as a dictionary\n",
        "data = json.load(f)\n",
        "\n",
        "\n",
        "# Create an empty list for spelling mistake/grammatical mistake counts in the conversation\n",
        "issue=[]\n",
        "\n",
        "# Load Python wrapper for LanguageTool. LanguageTool is open-source grammar tool, also known as the spellchecker for OpenOffice.\n",
        "# This library allows you to make to detect grammar errors and spelling mistakes\n",
        "tool = language_tool_python.LanguageTool('en-US')\n",
        "\n",
        "# Iterating through the json list and record spelling mistake/grammatical mistake counts\n",
        "for i in data:\n",
        "  text=i['conversation'][0][2:]\n",
        "  matches = tool.check(text)\n",
        "  issue.append(len(matches))\n",
        "\n",
        " \n",
        "# Closing file\n",
        "f.close()\n"
      ],
      "metadata": {
        "colab": {
          "base_uri": "https://localhost:8080/"
        },
        "id": "cJokKia4WCtq",
        "outputId": "bd0eda2d-96aa-42a7-c8cc-aaf1698f94db"
      },
      "execution_count": 26,
      "outputs": [
        {
          "output_type": "stream",
          "name": "stdout",
          "text": [
            "Drive already mounted at /content/drive; to attempt to forcibly remount, call drive.mount(\"/content/drive\", force_remount=True).\n"
          ]
        }
      ]
    },
    {
      "cell_type": "markdown",
      "source": [
        "# **TESTING STATIONARITY**\n",
        "\n",
        "    Null Hypothesis (H0): If failed to be rejected, it suggests the time series has a unit root, meaning it is non-stationary. It has some time dependent structure.\n",
        "    Alternate Hypothesis (H1): The null hypothesis is rejected; it suggests the time series does not have a unit root, meaning it is stationary. It does not have time-dependent structure.\n",
        "\n",
        "*We interpret this result using the p-value from the test. A p-value below a threshold (such as 5% or 1%) suggests we reject the null hypothesis (stationary), otherwise a p-value above the threshold suggests we fail to reject the null hypothesis (non-stationary).*\n",
        "\n",
        "\n",
        "    p-value > 0.05: Fail to reject the null hypothesis (H0), the data has a unit root and is non-stationary.\n",
        "    p-value <= 0.05: Reject the null hypothesis (H0), the data does not have a unit root and is stationary.\n",
        "\n",
        "The more negative this statistic, the more likely we are to reject the null hypothesis (we have a stationary dataset).\n"
      ],
      "metadata": {
        "id": "l8DIf7ZmVk67"
      }
    },
    {
      "cell_type": "code",
      "source": [
        "result = adfuller(issue)\n",
        "\n",
        "print('ADF Statistic: %f' % result[0])\n",
        "print('p-value: %f' % result[1])\n",
        "print('Critical Values:')\n",
        "for key, value in result[4].items():\n",
        "\tprint('\\t%s: %.3f' % (key, value))"
      ],
      "metadata": {
        "colab": {
          "base_uri": "https://localhost:8080/"
        },
        "id": "lUVczU4CUw1-",
        "outputId": "67eb8ee3-6e89-45f3-9da1-a14feecff069"
      },
      "execution_count": 27,
      "outputs": [
        {
          "output_type": "stream",
          "name": "stdout",
          "text": [
            "ADF Statistic: -23.664361\n",
            "p-value: 0.000000\n",
            "Critical Values:\n",
            "\t1%: -3.435\n",
            "\t5%: -2.864\n",
            "\t10%: -2.568\n"
          ]
        }
      ]
    }
  ]
}