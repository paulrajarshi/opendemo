{
  "nbformat": 4,
  "nbformat_minor": 0,
  "metadata": {
    "colab": {
      "name": "diversity.ipynb",
      "provenance": [],
      "collapsed_sections": []
    },
    "kernelspec": {
      "name": "python3",
      "display_name": "Python 3"
    },
    "language_info": {
      "name": "python"
    }
  },
  "cells": [
    {
      "cell_type": "code",
      "metadata": {
        "id": "sflTlC5zq-lS"
      },
      "source": [
        "import numpy as np\n",
        "import pandas as pd\n",
        "import seaborn as sns\n",
        "import matplotlib.pyplot as plt\n",
        "from google.colab import drive\n",
        "from scipy.stats import entropy\n",
        "from math import log, e"
      ],
      "execution_count": 75,
      "outputs": []
    },
    {
      "cell_type": "markdown",
      "source": [
        "Load Bosco Fontana Forest Mensuration Dataset"
      ],
      "metadata": {
        "id": "APd2y5ZiLXOH"
      }
    },
    {
      "cell_type": "code",
      "source": [
        "\n",
        "drive.mount('/content/drive')\n",
        "data = pd.read_csv('/content/drive/My Drive/Colab Notebooks/BrFo.csv')\n",
        "\n",
        "df=data[['inv_year','SP']]"
      ],
      "metadata": {
        "colab": {
          "base_uri": "https://localhost:8080/"
        },
        "id": "dFdDdpIhaUXm",
        "outputId": "048434ea-d633-4ed6-bc59-2cd7cef54333"
      },
      "execution_count": 76,
      "outputs": [
        {
          "output_type": "stream",
          "name": "stdout",
          "text": [
            "Drive already mounted at /content/drive; to attempt to forcibly remount, call drive.mount(\"/content/drive\", force_remount=True).\n"
          ]
        }
      ]
    },
    {
      "cell_type": "markdown",
      "source": [
        "Simpson's diversity index for an year:\n",
        "**D<sub>year</sub>=1-{𝝨n(n-1)}/N(N-1)**\n",
        "\n",
        "n = number of individuals of each species\n",
        "\n",
        "N = total number of individuals of all species"
      ],
      "metadata": {
        "id": "Ic68-A6_IKFB"
      }
    },
    {
      "cell_type": "code",
      "source": [
        "df.applymap(lambda x: x.strip() if isinstance(x, str) else x)\n",
        "\n",
        "n=df.groupby(['inv_year','SP']).size()\n",
        "\n",
        "#agg=df.groupby(['inv_year','SP']).agg({'SP':[np.size]})"
      ],
      "metadata": {
        "id": "h7a4q2T0INz9"
      },
      "execution_count": 77,
      "outputs": []
    },
    {
      "cell_type": "markdown",
      "source": [
        "Calculating:  n*(n-1)"
      ],
      "metadata": {
        "id": "tUU1lXudYaBF"
      }
    },
    {
      "cell_type": "code",
      "source": [
        "indiv=n*(n-1)\n",
        "\n",
        "print(indiv)"
      ],
      "metadata": {
        "colab": {
          "base_uri": "https://localhost:8080/"
        },
        "id": "aJRnSybRYeEb",
        "outputId": "3b8d27ff-9f6c-44c3-eee6-6187bc4f7982"
      },
      "execution_count": 78,
      "outputs": [
        {
          "output_type": "stream",
          "name": "stdout",
          "text": [
            "inv_year  SP\n",
            "1995      Ac      5550\n",
            "          Ag      3906\n",
            "          Ca     33672\n",
            "          Cb    572292\n",
            "          Cm         6\n",
            "          Co        12\n",
            "          Cs        12\n",
            "          Fa      6480\n",
            "          Fo     13340\n",
            "          Ms        12\n",
            "          Pr      5112\n",
            "          Pt         2\n",
            "          Qc        42\n",
            "          Qr     17822\n",
            "          Rp        72\n",
            "          Sd         0\n",
            "          Sn       552\n",
            "          St       506\n",
            "          Um      2970\n",
            "2005      Ac      4970\n",
            "          Ag      1722\n",
            "          Ca    202950\n",
            "          Cb    411522\n",
            "          Cm        20\n",
            "          Co         2\n",
            "          Fa      4692\n",
            "          Fo      9120\n",
            "          Ms        12\n",
            "          Pr     20880\n",
            "          Pt         2\n",
            "          Qc        42\n",
            "          Qr     12882\n",
            "          Rp        90\n",
            "          Sn       420\n",
            "          St        42\n",
            "          Um      4556\n",
            "2016      Ac      8372\n",
            "          Ag       870\n",
            "          Ca    285690\n",
            "          Cb    258572\n",
            "          Cm        56\n",
            "          Co         2\n",
            "          Fa      3080\n",
            "          Fo      5700\n",
            "          Ms        12\n",
            "          Pr     18906\n",
            "          Pt         0\n",
            "          Qc        30\n",
            "          Qr      7482\n",
            "          Rp        90\n",
            "          Sn        56\n",
            "          St        20\n",
            "          Tb         2\n",
            "          Um      5112\n",
            "dtype: int64\n"
          ]
        }
      ]
    },
    {
      "cell_type": "markdown",
      "source": [
        "Calculate: N(N-1)"
      ],
      "metadata": {
        "id": "dnxAkzhKqjSw"
      }
    },
    {
      "cell_type": "code",
      "source": [
        "N=df.groupby(['inv_year']).size()\n",
        "\n",
        "print(N*(N-1))"
      ],
      "metadata": {
        "colab": {
          "base_uri": "https://localhost:8080/"
        },
        "id": "JXHysJJkqnVd",
        "outputId": "f1ef78ba-c967-4a85-982d-353a23d8c33a"
      },
      "execution_count": 79,
      "outputs": [
        {
          "output_type": "stream",
          "name": "stdout",
          "text": [
            "inv_year\n",
            "1995    2616306\n",
            "2005    3081780\n",
            "2016    2691240\n",
            "dtype: int64\n"
          ]
        }
      ]
    }
  ]
}