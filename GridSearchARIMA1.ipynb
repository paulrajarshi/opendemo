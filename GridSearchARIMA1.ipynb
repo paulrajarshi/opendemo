{
  "cells": [
    {
      "cell_type": "code",
      "execution_count": null,
      "metadata": {
        "colab": {
          "base_uri": "https://localhost:8080/"
        },
        "id": "dUalYlHirHV_",
        "outputId": "84d677a5-8ed3-4d74-f8e3-6cda67fbdac1"
      },
      "outputs": [
        {
          "metadata": {
            "tags": null
          },
          "name": "stderr",
          "output_type": "stream",
          "text": [
            "/usr/local/lib/python3.7/dist-packages/ipykernel_launcher.py:5: FutureWarning: The pandas.datetime class is deprecated and will be removed from pandas in a future version. Import from datetime module instead.\n",
            "  \"\"\"\n",
            "/usr/local/lib/python3.7/dist-packages/statsmodels/tools/_testing.py:19: FutureWarning: pandas.util.testing is deprecated. Use the functions in the public API at pandas.testing instead.\n",
            "  import pandas.util.testing as tm\n"
          ]
        },
        {
          "output_type": "stream",
          "name": "stdout",
          "text": [
            "Drive already mounted at /content/drive; to attempt to forcibly remount, call drive.mount(\"/content/drive\", force_remount=True).\n",
            "ARIMA(2, 0, 0) RMSE=9394.108\n",
            "ARIMA(2, 0, 1) RMSE=8814.828\n",
            "ARIMA(2, 0, 2) RMSE=8811.616\n",
            "ARIMA(2, 1, 0) RMSE=9021.041\n",
            "ARIMA(2, 1, 1) RMSE=8771.309\n",
            "ARIMA(2, 1, 2) RMSE=8748.376\n",
            "ARIMA(2, 2, 0) RMSE=12364.796\n",
            "ARIMA(4, 0, 0) RMSE=8508.167\n",
            "ARIMA(4, 0, 1) RMSE=8491.401\n"
          ]
        }
      ],
      "source": [
        "# grid search ARIMA parameters for time series\n",
        "import warnings\n",
        "from math import sqrt\n",
        "from pandas import read_csv\n",
        "from pandas import datetime\n",
        "import pandas as pd\n",
        "from statsmodels.tsa.arima_model import ARIMA\n",
        "from sklearn.metrics import mean_squared_error\n",
        "from google.colab import drive\n",
        "\n",
        "# evaluate an ARIMA model for a given order (p,d,q)\n",
        "def evaluate_arima_model(X, arima_order):\n",
        "\t# prepare training dataset\n",
        "\ttrain_size = int(len(X) * 0.70)\n",
        "\ttrain, test = X[0:train_size], X[train_size:]\n",
        "\thistory = [x for x in train]\n",
        "\t# make predictions\n",
        "\tpredictions = list()\n",
        "\tfor t in range(len(test)):\n",
        "\t\tmodel = ARIMA(history, order=arima_order)\n",
        "\t\tmodel_fit = model.fit()\n",
        "\t\tyhat = model_fit.forecast()[0]\n",
        "\t\tpredictions.append(yhat)\n",
        "\t\thistory.append(test[t])\n",
        "\t# calculate out of sample error\n",
        "\trmse = sqrt(mean_squared_error(test, predictions))\n",
        "\treturn rmse\n",
        "\n",
        "# evaluate combinations of p, d and q values for an ARIMA model\n",
        "def evaluate_models(dataset, p_values, d_values, q_values):\n",
        "\tdataset = dataset.astype('float32')\n",
        "\tbest_score, best_cfg = float(\"inf\"), None\n",
        "\tfor p in p_values:\n",
        "\t\tfor d in d_values:\n",
        "\t\t\tfor q in q_values:\n",
        "\t\t\t\torder = (p,d,q)\n",
        "\t\t\t\ttry:\n",
        "\t\t\t\t\trmse = evaluate_arima_model(dataset, order)\n",
        "\t\t\t\t\tif rmse < best_score:\n",
        "\t\t\t\t\t\tbest_score, best_cfg = rmse, order\n",
        "\t\t\t\t\tprint('ARIMA%s RMSE=%.3f' % (order,rmse))\n",
        "\t\t\t\texcept:\n",
        "\t\t\t\t\tcontinue\n",
        "\tprint('Best ARIMA%s RMSE=%.3f' % (best_cfg, best_score))\n",
        "\n",
        "# load dataset\n",
        "#def parser(x):\n",
        "#\treturn datetime.strptime(x, '%Y-%m-%d')\n",
        "\n",
        "drive.mount('/content/drive')\n",
        "df = pd.read_csv('/content/drive/My Drive/Colab Notebooks/trainwalmart.csv') #, header=0, index_col=0, parse_dates=True, squeeze=True, date_parser=parser\n",
        "\n",
        "\n",
        "series = df[df['Store']==1][['Weekly_Sales']]\n",
        "#print(series.values)\n",
        "# evaluate parameters\n",
        "p_values = [2, 4, 6, 8, 10]\n",
        "d_values = range(0, 3)\n",
        "q_values = range(0, 3)\n",
        "warnings.filterwarnings(\"ignore\")\n",
        "evaluate_models(series.values, p_values, d_values, q_values)"
      ]
    }
  ],
  "metadata": {
    "colab": {
      "collapsed_sections": [],
      "name": "GridSearchARIMA.ipynb",
      "provenance": []
    },
    "kernelspec": {
      "display_name": "Python 3",
      "name": "python3"
    },
    "language_info": {
      "name": "python"
    }
  },
  "nbformat": 4,
  "nbformat_minor": 0
}